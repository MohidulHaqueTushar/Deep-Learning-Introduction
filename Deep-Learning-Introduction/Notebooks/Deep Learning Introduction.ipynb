{
 "cells": [
  {
   "cell_type": "markdown",
   "id": "b1cf568c",
   "metadata": {},
   "source": [
    "# Deep Learning Introduction\n",
    "\n",
    "## Take Away Message\n",
    "\n",
    "Understanding why deep learning is so popular and the different components of deep learning. How a deep learning system learn from data.\n",
    "\n",
    "- Deep learning compoents\n",
    "- Representation learning\n",
    "- Linear layers\n",
    "- Activation functions\n",
    "- Gradient descent"
   ]
  },
  {
   "cell_type": "markdown",
   "id": "18d95063",
   "metadata": {},
   "source": [
    "Two main reasons why deep learning has gained a lot of ground in the last two decades:\n",
    "\n",
    "- Computational availability: the introduction of GPUs provided the much-needed boost to the widespread use of deep learning and accelerated the progress in the field. <br>\n",
    "\n",
    "- Data availability: if we keep increasing the data that we provide to a deep learning model, the model will be able to learn better and better functions. With more data, deep learning starts to outperform traditional machine learning.\n",
    "\n",
    "![Model Performances vs Data](Performance_vs_data.jpg)\n"
   ]
  },
  {
   "cell_type": "markdown",
   "id": "a6bdcffe",
   "metadata": {},
   "source": [
    "## What is deep learning?\n",
    "\n",
    "A model is called deep learning when it involves automatic feature learning from raw data. <br>\n",
    "key points are:\n",
    "- Assembling parametrized modules : composed of a few submodules with a few parameters assembled into a graph-like structure.\n",
    "- Optimizing it with gradient-based methods : empirically see that most successful deep learning systems are trained using       gradient-based methods."
   ]
  },
  {
   "cell_type": "markdown",
   "id": "63b01369",
   "metadata": {},
   "source": [
    "## Perceptron : first neural network\n",
    "\n",
    "The fundamental unit of a human brain is something we call a neuron, shown here: <br>\n",
    "![neuron](neuron.jpg)\n",
    "\n",
    "The biological neuron has the following parts:\n",
    "- Dendrites : are branched extensions of the nerve cell that collect inputs from surrounding cells or other neurons.\n",
    "- Soma : collects these inputs, joins them, and is passed on.\n",
    "- Axon hillock : connects the soma to the axon, and it controls the firing of the neuron. If the strength of a signal exceeds a threshold, the axon hillock fires an electrical signal through the axon.\n",
    "- Axon : is the fiber that connects the soma to the nerve endings. It is the axon’s duty to pass on the electrical signal to the endpoints.\n",
    "- Synapses : are the end points of the nerve cell and transmit the signal to other nerve cells.\n",
    "<br>\n",
    "\n",
    "McCulloch and Pitts (1943) were the first to design a mathematical model for the biological neuron. But the McCulloch-Pitts model had a few limitations:\n",
    "\n",
    "- It only accepted binary variables.\n",
    "- It considered all input variables equally important.\n",
    "- There was only one parameter, a threshold, which was not learnable.\n",
    "\n",
    "In 1957, Frank Rosenblatt generalized the McCulloch-Pitts model and made it a full model whose parameters could be learned.\n",
    "\n",
    "Fundamental building block of all neural networks : perceptron\n",
    "![perceptron](perceptron.PNG)\n",
    "\n",
    "Perceptron has the following components:\n",
    "- Inputs : real-valued inputs that are fed to a Perceptron. This is like the dendrites in neurons that collect the input.\n",
    "- Weighted sum : each input is multiplied by a corresponding weight and summed up. The weights determine the importance of each   input in determining the outcome.\n",
    "- Non-linearity : the weighted sum goes through a non-linear function. For the original Perceptron, it was a step function with   a threshold activation. The output would be positive or negative based on the weighted sum and the threshold of the unit.       Modern-day Perceptrons and neural networks use different kinds of activation functions.\n",
    "\n",
    "Perceptron in the mathematical form:\n",
    "![Perception](perception_as_mathematically.PNG)\n",
    "\n",
    "The Perceptron output is defined by the weighted sum of inputs, which is passed in through a non-linear function.\n",
    "\n",
    "**Note:** importance of using linear algebra\n",
    "   -  Help understand neural networks faster.\n",
    "   -  Make the whole thing feasible because matrix multiplications are something that our modern-day computers and GPUs are          really good at. Without linear algebra, multiplying these inputs with corresponding weights would require us to loop            through the inputs, and it quickly becomes infeasible."
   ]
  },
  {
   "cell_type": "markdown",
   "id": "2c92d5e1",
   "metadata": {},
   "source": [
    "## Linear algebra intuition\n",
    "\n",
    "### Vectors and vector spaces\n",
    "In linear algebra, a **vector** is an entity that has both magnitude and direction. For example,\n",
    "\n",
    "                                    a = [[1,2]], where a is an array (2 dimensional).\n",
    "This is an array of numbers. If we plot this point in the two-dimensional **coordinate space**, we get a point. And if we draw a line from the origin to this point, we will get an entity with direction and magnitude. This is a vector. A two-dimensional vector space, informally, is all the possible vectors with two entries.This two-dimensional coordinate space is called a vector space.\n",
    "\n",
    "Extending it to n-dimensions, an n-dimensional vector space is all the possible vectors with n entries.\n",
    "\n",
    "**Note:** a vector is a point in the n-dimensional vector space.\n",
    "\n",
    "### Matrices and transformations\n",
    "Genarally a matrix is a rectangular arrangement of numbers. Matrix specifies a linear transformation of the vector space it resides in.We multiply a vector with a matrix, we are essentially transforming the vector, and the values and dimensions of the matrix define the kind of transformation that happens. We also apply these transformation matrices to vector spaces to develop intuition on how matrix multiplication can rotate and warp the vector spaces.\n",
    "\n",
    "### Deep learning system\n",
    "Deep learning is not just one model, but rather a language to express any model in terms of a few parametrized modules with these specific properties:\n",
    "- Able to produce an output from a given input through a series of computations.\n",
    "- If the desired output is given, they should be able to pass on information to its inputs on how to change, to arrive at the  desired output. For instance, if the output is lower than what is desired, the module should be able to tell its inputs to change in some direction so that the output becomes closer to the desired one.\n",
    "\n",
    "To optimize these kinds of systems, we predominantly use gradient-based optimization methods. Therefore, condensing the two properties into one, we can say that these parameterized modules should be differentiable functions\n",
    "\n",
    "A deep learning system:\n",
    "![system](deep_learning_system.PNG)\n",
    "\n",
    "Deep learning can be thought of as a system that takes in raw input data through a series of linear and non-linear transforms to provide us with an output. It also can adjust its internal parameters to make the output as close as possible to the desired output through learning.\n",
    "\n",
    "#### Representation learning\n",
    "Learns the best features by which we can make the problem linearly separable. Linearly separable means when we can separate the different classes with a straight line. \n",
    "\n",
    "Transforming non-linearly separable data into linearly separable using a function:\n",
    "![representation](represemtraion_learning.PNG)\n",
    "\n",
    "The representation learning block may have multiple linear and non-linear functions stacked on top of each other and the overall function of the block is to learn desired function, which transforms the raw input into good features that make the problem linearly separable. The representation learning block learns the right transformations, which makes the task easier.\n",
    "\n",
    "A dataset that is not linearly separable, trained a neural network on the problem to classify, and then visualized how the input space was transformed by the model into a linearly separable representation.\n",
    "\n",
    "Non-linearly separable space:\n",
    "![non-linear](vector_space.PNG)\n",
    "\n",
    "Transformed to linearly seperable:\n",
    "![linear](linierity.PNG)\n",
    "\n",
    "Inside the representation learning block. We can see,\n",
    "\n",
    "- A linear transformation\n",
    "- A non-linear activation function"
   ]
  }
 ],
 "metadata": {
  "kernelspec": {
   "display_name": "Python 3 (ipykernel)",
   "language": "python",
   "name": "python3"
  },
  "language_info": {
   "codemirror_mode": {
    "name": "ipython",
    "version": 3
   },
   "file_extension": ".py",
   "mimetype": "text/x-python",
   "name": "python",
   "nbconvert_exporter": "python",
   "pygments_lexer": "ipython3",
   "version": "3.11.3"
  }
 },
 "nbformat": 4,
 "nbformat_minor": 5
}
