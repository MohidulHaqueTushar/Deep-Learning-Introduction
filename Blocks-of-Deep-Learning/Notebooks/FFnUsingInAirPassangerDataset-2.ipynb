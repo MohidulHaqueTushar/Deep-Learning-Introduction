{
 "cells": [
  {
   "cell_type": "code",
   "execution_count": 2,
   "metadata": {
    "id": "OYfR2dqW3AWy"
   },
   "outputs": [],
   "source": [
    "\"\"\"import necessary modules\"\"\"\n",
    "import numpy as np\n",
    "import matplotlib.pyplot as plt\n",
    "import pandas as pd\n",
    "import math\n",
    "\n",
    "from keras.models import Sequential\n",
    "from keras.layers import Dense\n",
    "from sklearn.preprocessing import MinMaxScaler\n",
    "from sklearn.metrics import mean_squared_error"
   ]
  },
  {
   "cell_type": "markdown",
   "metadata": {},
   "source": [
    "## Load and Process the Data"
   ]
  },
  {
   "cell_type": "code",
   "execution_count": 3,
   "metadata": {
    "colab": {
     "base_uri": "https://localhost:8080/",
     "height": 448
    },
    "id": "32DiZP-T36iY",
    "outputId": "02b5a409-8e06-4a0d-8c78-76b7b616a225"
   },
   "outputs": [
    {
     "data": {
      "text/html": [
       "<div>\n",
       "<style scoped>\n",
       "    .dataframe tbody tr th:only-of-type {\n",
       "        vertical-align: middle;\n",
       "    }\n",
       "\n",
       "    .dataframe tbody tr th {\n",
       "        vertical-align: top;\n",
       "    }\n",
       "\n",
       "    .dataframe thead th {\n",
       "        text-align: right;\n",
       "    }\n",
       "</style>\n",
       "<table border=\"1\" class=\"dataframe\">\n",
       "  <thead>\n",
       "    <tr style=\"text-align: right;\">\n",
       "      <th></th>\n",
       "      <th>Month</th>\n",
       "      <th>#Passengers</th>\n",
       "    </tr>\n",
       "  </thead>\n",
       "  <tbody>\n",
       "    <tr>\n",
       "      <th>0</th>\n",
       "      <td>1949-01</td>\n",
       "      <td>112</td>\n",
       "    </tr>\n",
       "    <tr>\n",
       "      <th>1</th>\n",
       "      <td>1949-02</td>\n",
       "      <td>118</td>\n",
       "    </tr>\n",
       "    <tr>\n",
       "      <th>2</th>\n",
       "      <td>1949-03</td>\n",
       "      <td>132</td>\n",
       "    </tr>\n",
       "    <tr>\n",
       "      <th>3</th>\n",
       "      <td>1949-04</td>\n",
       "      <td>129</td>\n",
       "    </tr>\n",
       "    <tr>\n",
       "      <th>4</th>\n",
       "      <td>1949-05</td>\n",
       "      <td>121</td>\n",
       "    </tr>\n",
       "  </tbody>\n",
       "</table>\n",
       "</div>"
      ],
      "text/plain": [
       "     Month  #Passengers\n",
       "0  1949-01          112\n",
       "1  1949-02          118\n",
       "2  1949-03          132\n",
       "3  1949-04          129\n",
       "4  1949-05          121"
      ]
     },
     "execution_count": 3,
     "metadata": {},
     "output_type": "execute_result"
    }
   ],
   "source": [
    "\"\"\"load the dataset\"\"\"\n",
    "dataframe = pd.read_csv('AirPassengers.csv')\n",
    "dataframe.head()"
   ]
  },
  {
   "cell_type": "code",
   "execution_count": 4,
   "metadata": {},
   "outputs": [],
   "source": [
    "\"\"\"convert date to datetime\"\"\"\n",
    "dataframe[\"Month\"] = pd.to_datetime(dataframe[\"Month\"])"
   ]
  },
  {
   "cell_type": "code",
   "execution_count": 5,
   "metadata": {},
   "outputs": [
    {
     "data": {
      "text/html": [
       "<div>\n",
       "<style scoped>\n",
       "    .dataframe tbody tr th:only-of-type {\n",
       "        vertical-align: middle;\n",
       "    }\n",
       "\n",
       "    .dataframe tbody tr th {\n",
       "        vertical-align: top;\n",
       "    }\n",
       "\n",
       "    .dataframe thead th {\n",
       "        text-align: right;\n",
       "    }\n",
       "</style>\n",
       "<table border=\"1\" class=\"dataframe\">\n",
       "  <thead>\n",
       "    <tr style=\"text-align: right;\">\n",
       "      <th></th>\n",
       "      <th>Month</th>\n",
       "      <th>#Passengers</th>\n",
       "    </tr>\n",
       "  </thead>\n",
       "  <tbody>\n",
       "    <tr>\n",
       "      <th>0</th>\n",
       "      <td>1949-01-01</td>\n",
       "      <td>112</td>\n",
       "    </tr>\n",
       "    <tr>\n",
       "      <th>1</th>\n",
       "      <td>1949-02-01</td>\n",
       "      <td>118</td>\n",
       "    </tr>\n",
       "    <tr>\n",
       "      <th>2</th>\n",
       "      <td>1949-03-01</td>\n",
       "      <td>132</td>\n",
       "    </tr>\n",
       "    <tr>\n",
       "      <th>3</th>\n",
       "      <td>1949-04-01</td>\n",
       "      <td>129</td>\n",
       "    </tr>\n",
       "    <tr>\n",
       "      <th>4</th>\n",
       "      <td>1949-05-01</td>\n",
       "      <td>121</td>\n",
       "    </tr>\n",
       "  </tbody>\n",
       "</table>\n",
       "</div>"
      ],
      "text/plain": [
       "       Month  #Passengers\n",
       "0 1949-01-01          112\n",
       "1 1949-02-01          118\n",
       "2 1949-03-01          132\n",
       "3 1949-04-01          129\n",
       "4 1949-05-01          121"
      ]
     },
     "execution_count": 5,
     "metadata": {},
     "output_type": "execute_result"
    }
   ],
   "source": [
    "\"\"\"first five rows of the update dataset\"\"\"\n",
    "dataframe.head()"
   ]
  },
  {
   "cell_type": "code",
   "execution_count": 6,
   "metadata": {},
   "outputs": [
    {
     "data": {
      "text/html": [
       "<div>\n",
       "<style scoped>\n",
       "    .dataframe tbody tr th:only-of-type {\n",
       "        vertical-align: middle;\n",
       "    }\n",
       "\n",
       "    .dataframe tbody tr th {\n",
       "        vertical-align: top;\n",
       "    }\n",
       "\n",
       "    .dataframe thead th {\n",
       "        text-align: right;\n",
       "    }\n",
       "</style>\n",
       "<table border=\"1\" class=\"dataframe\">\n",
       "  <thead>\n",
       "    <tr style=\"text-align: right;\">\n",
       "      <th></th>\n",
       "      <th>Month</th>\n",
       "      <th>#Passengers</th>\n",
       "    </tr>\n",
       "  </thead>\n",
       "  <tbody>\n",
       "    <tr>\n",
       "      <th>count</th>\n",
       "      <td>144</td>\n",
       "      <td>144.000000</td>\n",
       "    </tr>\n",
       "    <tr>\n",
       "      <th>mean</th>\n",
       "      <td>1954-12-16 05:00:00</td>\n",
       "      <td>280.298611</td>\n",
       "    </tr>\n",
       "    <tr>\n",
       "      <th>min</th>\n",
       "      <td>1949-01-01 00:00:00</td>\n",
       "      <td>104.000000</td>\n",
       "    </tr>\n",
       "    <tr>\n",
       "      <th>25%</th>\n",
       "      <td>1951-12-24 06:00:00</td>\n",
       "      <td>180.000000</td>\n",
       "    </tr>\n",
       "    <tr>\n",
       "      <th>50%</th>\n",
       "      <td>1954-12-16 12:00:00</td>\n",
       "      <td>265.500000</td>\n",
       "    </tr>\n",
       "    <tr>\n",
       "      <th>75%</th>\n",
       "      <td>1957-12-08 18:00:00</td>\n",
       "      <td>360.500000</td>\n",
       "    </tr>\n",
       "    <tr>\n",
       "      <th>max</th>\n",
       "      <td>1960-12-01 00:00:00</td>\n",
       "      <td>622.000000</td>\n",
       "    </tr>\n",
       "    <tr>\n",
       "      <th>std</th>\n",
       "      <td>NaN</td>\n",
       "      <td>119.966317</td>\n",
       "    </tr>\n",
       "  </tbody>\n",
       "</table>\n",
       "</div>"
      ],
      "text/plain": [
       "                     Month  #Passengers\n",
       "count                  144   144.000000\n",
       "mean   1954-12-16 05:00:00   280.298611\n",
       "min    1949-01-01 00:00:00   104.000000\n",
       "25%    1951-12-24 06:00:00   180.000000\n",
       "50%    1954-12-16 12:00:00   265.500000\n",
       "75%    1957-12-08 18:00:00   360.500000\n",
       "max    1960-12-01 00:00:00   622.000000\n",
       "std                    NaN   119.966317"
      ]
     },
     "execution_count": 6,
     "metadata": {},
     "output_type": "execute_result"
    }
   ],
   "source": [
    "\"\"\"describe the data\"\"\"\n",
    "dataframe.describe()"
   ]
  },
  {
   "cell_type": "code",
   "execution_count": 7,
   "metadata": {},
   "outputs": [
    {
     "name": "stdout",
     "output_type": "stream",
     "text": [
      "The shape of the data: (144, 2)\n",
      "and the type: <class 'pandas.core.frame.DataFrame'>\n"
     ]
    }
   ],
   "source": [
    "print(\"The shape of the data: {}\\nand the type: {}\".format(dataframe.shape, type(dataframe)))"
   ]
  },
  {
   "cell_type": "code",
   "execution_count": 8,
   "metadata": {},
   "outputs": [],
   "source": [
    "\"\"\"set months as index\"\"\"\n",
    "dataframe.set_index(\"Month\", inplace = True)"
   ]
  },
  {
   "cell_type": "code",
   "execution_count": 9,
   "metadata": {},
   "outputs": [
    {
     "data": {
      "text/html": [
       "<div>\n",
       "<style scoped>\n",
       "    .dataframe tbody tr th:only-of-type {\n",
       "        vertical-align: middle;\n",
       "    }\n",
       "\n",
       "    .dataframe tbody tr th {\n",
       "        vertical-align: top;\n",
       "    }\n",
       "\n",
       "    .dataframe thead th {\n",
       "        text-align: right;\n",
       "    }\n",
       "</style>\n",
       "<table border=\"1\" class=\"dataframe\">\n",
       "  <thead>\n",
       "    <tr style=\"text-align: right;\">\n",
       "      <th></th>\n",
       "      <th>#Passengers</th>\n",
       "    </tr>\n",
       "    <tr>\n",
       "      <th>Month</th>\n",
       "      <th></th>\n",
       "    </tr>\n",
       "  </thead>\n",
       "  <tbody>\n",
       "    <tr>\n",
       "      <th>1949-01-01</th>\n",
       "      <td>112</td>\n",
       "    </tr>\n",
       "    <tr>\n",
       "      <th>1949-02-01</th>\n",
       "      <td>118</td>\n",
       "    </tr>\n",
       "    <tr>\n",
       "      <th>1949-03-01</th>\n",
       "      <td>132</td>\n",
       "    </tr>\n",
       "    <tr>\n",
       "      <th>1949-04-01</th>\n",
       "      <td>129</td>\n",
       "    </tr>\n",
       "    <tr>\n",
       "      <th>1949-05-01</th>\n",
       "      <td>121</td>\n",
       "    </tr>\n",
       "  </tbody>\n",
       "</table>\n",
       "</div>"
      ],
      "text/plain": [
       "            #Passengers\n",
       "Month                  \n",
       "1949-01-01          112\n",
       "1949-02-01          118\n",
       "1949-03-01          132\n",
       "1949-04-01          129\n",
       "1949-05-01          121"
      ]
     },
     "execution_count": 9,
     "metadata": {},
     "output_type": "execute_result"
    }
   ],
   "source": [
    "\"\"\"first five rows of the updated datset\"\"\"\n",
    "dataframe.head()"
   ]
  },
  {
   "cell_type": "code",
   "execution_count": 10,
   "metadata": {},
   "outputs": [
    {
     "data": {
      "text/html": [
       "<div>\n",
       "<style scoped>\n",
       "    .dataframe tbody tr th:only-of-type {\n",
       "        vertical-align: middle;\n",
       "    }\n",
       "\n",
       "    .dataframe tbody tr th {\n",
       "        vertical-align: top;\n",
       "    }\n",
       "\n",
       "    .dataframe thead th {\n",
       "        text-align: right;\n",
       "    }\n",
       "</style>\n",
       "<table border=\"1\" class=\"dataframe\">\n",
       "  <thead>\n",
       "    <tr style=\"text-align: right;\">\n",
       "      <th></th>\n",
       "      <th>#Passengers</th>\n",
       "    </tr>\n",
       "  </thead>\n",
       "  <tbody>\n",
       "    <tr>\n",
       "      <th>count</th>\n",
       "      <td>144.000000</td>\n",
       "    </tr>\n",
       "    <tr>\n",
       "      <th>mean</th>\n",
       "      <td>280.298611</td>\n",
       "    </tr>\n",
       "    <tr>\n",
       "      <th>std</th>\n",
       "      <td>119.966317</td>\n",
       "    </tr>\n",
       "    <tr>\n",
       "      <th>min</th>\n",
       "      <td>104.000000</td>\n",
       "    </tr>\n",
       "    <tr>\n",
       "      <th>25%</th>\n",
       "      <td>180.000000</td>\n",
       "    </tr>\n",
       "    <tr>\n",
       "      <th>50%</th>\n",
       "      <td>265.500000</td>\n",
       "    </tr>\n",
       "    <tr>\n",
       "      <th>75%</th>\n",
       "      <td>360.500000</td>\n",
       "    </tr>\n",
       "    <tr>\n",
       "      <th>max</th>\n",
       "      <td>622.000000</td>\n",
       "    </tr>\n",
       "  </tbody>\n",
       "</table>\n",
       "</div>"
      ],
      "text/plain": [
       "       #Passengers\n",
       "count   144.000000\n",
       "mean    280.298611\n",
       "std     119.966317\n",
       "min     104.000000\n",
       "25%     180.000000\n",
       "50%     265.500000\n",
       "75%     360.500000\n",
       "max     622.000000"
      ]
     },
     "execution_count": 10,
     "metadata": {},
     "output_type": "execute_result"
    }
   ],
   "source": [
    "\"\"\"info about the update data\"\"\"\n",
    "dataframe.describe()"
   ]
  },
  {
   "cell_type": "code",
   "execution_count": 11,
   "metadata": {},
   "outputs": [
    {
     "name": "stdout",
     "output_type": "stream",
     "text": [
      "The shape of the update data: (144, 1)\n",
      "and the type: <class 'pandas.core.frame.DataFrame'>\n"
     ]
    }
   ],
   "source": [
    "print(\"The shape of the update data: {}\\nand the type: {}\".format(dataframe.shape, type(dataframe)))"
   ]
  },
  {
   "cell_type": "code",
   "execution_count": 12,
   "metadata": {},
   "outputs": [
    {
     "data": {
      "image/png": "[encoded data removed]",
      "text/plain": [
       "<Figure size 640x480 with 1 Axes>"
      ]
     },
     "metadata": {},
     "output_type": "display_data"
    }
   ],
   "source": [
    "\"\"\"plot the dataframe\"\"\"\n",
    "plt.plot(dataframe, c=\"b\", label=\"Original Trend\")\n",
    "plt.title(\"Passangers Growth\")\n",
    "plt.xlabel(\"Time in Years\")\n",
    "plt.ylabel(\"Frequency\")\n",
    "plt.legend()\n",
    "plt.tight_layout()\n",
    "plt.savefig(\"Passengers growths over time.png\", dpi=300)\n",
    "plt.show()"
   ]
  },
  {
   "cell_type": "code",
   "execution_count": 13,
   "metadata": {
    "id": "u6yK4AaG4Ev2"
   },
   "outputs": [],
   "source": [
    "\"\"\"convert pandas dataframe to numpy array\"\"\"\n",
    "dataset = dataframe.values\n",
    "dataset = dataset.astype('float32')"
   ]
  },
  {
   "cell_type": "code",
   "execution_count": 14,
   "metadata": {},
   "outputs": [
    {
     "name": "stdout",
     "output_type": "stream",
     "text": [
      "The shape of the data: (144, 1)\n",
      "and the type: <class 'numpy.ndarray'>\n"
     ]
    }
   ],
   "source": [
    "print(\"The shape of the data: {}\\nand the type: {}\".format(dataset.shape, type(dataset)))"
   ]
  },
  {
   "cell_type": "code",
   "execution_count": 15,
   "metadata": {
    "id": "uf40zDDD6kcl"
   },
   "outputs": [],
   "source": [
    "\"\"\"normalize the dataset\"\"\"\n",
    "scaler = MinMaxScaler(feature_range=(0, 1))\n",
    "dataset = scaler.fit_transform(dataset)"
   ]
  },
  {
   "cell_type": "code",
   "execution_count": 16,
   "metadata": {},
   "outputs": [
    {
     "name": "stdout",
     "output_type": "stream",
     "text": [
      "Transformed dataset:\n",
      " [[0.01544401]\n",
      " [0.02702703]\n",
      " [0.05405405]\n",
      " [0.04826255]\n",
      " [0.03281853]\n",
      " [0.05984557]\n",
      " [0.08494207]\n",
      " [0.08494207]\n",
      " [0.06177607]\n",
      " [0.02895753]\n",
      " [0.        ]\n",
      " [0.02702703]\n",
      " [0.02123553]\n",
      " [0.04247104]\n",
      " [0.07142857]\n",
      " [0.05984557]\n",
      " [0.04054055]\n",
      " [0.08687258]\n",
      " [0.12741312]\n",
      " [0.12741312]\n",
      " [0.10424709]\n",
      " [0.05598456]\n",
      " [0.01930502]\n",
      " [0.06949806]\n",
      " [0.07915059]\n",
      " [0.08880308]\n",
      " [0.14285713]\n",
      " [0.11389962]\n",
      " [0.13127413]\n",
      " [0.14285713]\n",
      " [0.18339768]\n",
      " [0.18339768]\n",
      " [0.15444016]\n",
      " [0.11196911]\n",
      " [0.08108109]\n",
      " [0.1196911 ]\n",
      " [0.12934363]\n",
      " [0.14671814]\n",
      " [0.17181468]\n",
      " [0.14864865]\n",
      " [0.15250966]\n",
      " [0.22007722]\n",
      " [0.24324325]\n",
      " [0.26640925]\n",
      " [0.2027027 ]\n",
      " [0.16795367]\n",
      " [0.13127413]\n",
      " [0.17374519]\n",
      " [0.17760617]\n",
      " [0.17760617]\n",
      " [0.25482625]\n",
      " [0.25289574]\n",
      " [0.24131274]\n",
      " [0.26833975]\n",
      " [0.3088803 ]\n",
      " [0.32432434]\n",
      " [0.25675675]\n",
      " [0.20656371]\n",
      " [0.14671814]\n",
      " [0.18725869]\n",
      " [0.19305018]\n",
      " [0.16216215]\n",
      " [0.25289574]\n",
      " [0.23745173]\n",
      " [0.25096524]\n",
      " [0.3088803 ]\n",
      " [0.38223937]\n",
      " [0.36486486]\n",
      " [0.2992278 ]\n",
      " [0.24131274]\n",
      " [0.1911197 ]\n",
      " [0.24131274]\n",
      " [0.26640925]\n",
      " [0.24903473]\n",
      " [0.31467178]\n",
      " [0.3185328 ]\n",
      " [0.32046333]\n",
      " [0.4073359 ]\n",
      " [0.5019305 ]\n",
      " [0.46911195]\n",
      " [0.40154442]\n",
      " [0.32818535]\n",
      " [0.25675675]\n",
      " [0.3359073 ]\n",
      " [0.34749034]\n",
      " [0.33397684]\n",
      " [0.41119692]\n",
      " [0.4034749 ]\n",
      " [0.4131274 ]\n",
      " [0.52123547]\n",
      " [0.5965251 ]\n",
      " [0.58108103]\n",
      " [0.484556  ]\n",
      " [0.3899614 ]\n",
      " [0.3223938 ]\n",
      " [0.3899614 ]\n",
      " [0.4073359 ]\n",
      " [0.3803089 ]\n",
      " [0.48648646]\n",
      " [0.47104248]\n",
      " [0.484556  ]\n",
      " [0.6138996 ]\n",
      " [0.6969112 ]\n",
      " [0.70077217]\n",
      " [0.57915056]\n",
      " [0.46911195]\n",
      " [0.38803086]\n",
      " [0.44787642]\n",
      " [0.45559844]\n",
      " [0.4131274 ]\n",
      " [0.4980695 ]\n",
      " [0.47104248]\n",
      " [0.49999997]\n",
      " [0.6389961 ]\n",
      " [0.7471043 ]\n",
      " [0.7741313 ]\n",
      " [0.57915056]\n",
      " [0.492278  ]\n",
      " [0.3976834 ]\n",
      " [0.44980696]\n",
      " [0.49420848]\n",
      " [0.45945945]\n",
      " [0.5830116 ]\n",
      " [0.5637065 ]\n",
      " [0.61003864]\n",
      " [0.71042466]\n",
      " [0.8571429 ]\n",
      " [0.8783784 ]\n",
      " [0.69305015]\n",
      " [0.5849421 ]\n",
      " [0.4980695 ]\n",
      " [0.58108103]\n",
      " [0.6042471 ]\n",
      " [0.554054  ]\n",
      " [0.60810804]\n",
      " [0.6891892 ]\n",
      " [0.71042466]\n",
      " [0.8320464 ]\n",
      " [1.        ]\n",
      " [0.96911204]\n",
      " [0.7799227 ]\n",
      " [0.6891892 ]\n",
      " [0.55212355]\n",
      " [0.6332046 ]]\n"
     ]
    }
   ],
   "source": [
    "print(\"Transformed dataset:\\n\",dataset)"
   ]
  },
  {
   "cell_type": "code",
   "execution_count": 17,
   "metadata": {},
   "outputs": [
    {
     "name": "stdout",
     "output_type": "stream",
     "text": [
      "Shape of the transformed dataset:  (144, 1)\n"
     ]
    }
   ],
   "source": [
    "print(\"Shape of the transformed dataset: \", dataset.shape)"
   ]
  },
  {
   "cell_type": "code",
   "execution_count": 18,
   "metadata": {
    "id": "-EQNyDf78hwY"
   },
   "outputs": [],
   "source": [
    "\"\"\"split data into 60% for train and 40% for test sets\"\"\"\n",
    "train_size = int(len(dataset) * 0.66)\n",
    "test_size = len(dataset) - train_size\n",
    "train, test = dataset[0:train_size,:], dataset[train_size:len(dataset),:]"
   ]
  },
  {
   "cell_type": "code",
   "execution_count": 19,
   "metadata": {
    "id": "2NqYxElw8qCA"
   },
   "outputs": [],
   "source": [
    "\"\"\"convert an array of values into an input and output sets\"\"\"\n",
    "def to_sequences(dataset, seq_size=1):\n",
    "    \"\"\"\n",
    "    Function to convert time series data to dataset matrix to train a neural network model\n",
    "\n",
    "    Parameters\n",
    "    ----------\n",
    "    dataset: sequence of data points\n",
    "             array type\n",
    "    seq_size: number of sequence, default value one\n",
    "             int type\n",
    "    Output\n",
    "    ------\n",
    "    Input and Output data as an array \n",
    "    \"\"\"\n",
    "    x = []\n",
    "    y = []\n",
    "\n",
    "    for i in range(len(dataset)-seq_size-1):\n",
    "        window = dataset[i:(i+seq_size), 0]\n",
    "        x.append(window)\n",
    "        y.append(dataset[i+seq_size, 0])\n",
    "    return np.array(x),np.array(y)"
   ]
  },
  {
   "cell_type": "code",
   "execution_count": 20,
   "metadata": {
    "id": "7ZRG023B92gi"
   },
   "outputs": [],
   "source": [
    "\"\"\"prepare data for FFN\"\"\"\n",
    "seq_size = 10\n",
    "trainX, trainY = to_sequences(train, seq_size)\n",
    "testX, testY = to_sequences(test, seq_size)"
   ]
  },
  {
   "cell_type": "code",
   "execution_count": 25,
   "metadata": {},
   "outputs": [
    {
     "name": "stdout",
     "output_type": "stream",
     "text": [
      "Train data dimensions:\n",
      "Input shape: (84, 10)\n",
      "Output shape: (84,)\n",
      "\n",
      "Test data dimensions:\n",
      "Input shape: (38, 10)\n",
      "Output shape: (38,)\n"
     ]
    }
   ],
   "source": [
    "\"\"\"details on updated train and test dataset\"\"\"\n",
    "print(\"Train data dimensions:\\nInput shape: {}\\nOutput shape: {}\".format(trainX.shape, trainY.shape))\n",
    "print(\"\\nTest data dimensions:\\nInput shape: {}\\nOutput shape: {}\".format(testX.shape, testY.shape))"
   ]
  },
  {
   "cell_type": "markdown",
   "metadata": {},
   "source": [
    "## Define, Train, and Validate a Feedforward Neural Network Model"
   ]
  },
  {
   "cell_type": "code",
   "execution_count": 26,
   "metadata": {
    "colab": {
     "base_uri": "https://localhost:8080/"
    },
    "id": "i7eQdEWH-EQf",
    "outputId": "4ce4432a-b9c0-4247-f275-1c6cb9c19a5d"
   },
   "outputs": [
    {
     "name": "stdout",
     "output_type": "stream",
     "text": [
      "Building a deep learning model: FFNn\n",
      "Model: \"sequential\"\n",
      "_________________________________________________________________\n",
      " Layer (type)                Output Shape              Param #   \n",
      "=================================================================\n",
      " dense (Dense)               (None, 64)                704       \n",
      "                                                                 \n",
      " dense_1 (Dense)             (None, 32)                2080      \n",
      "                                                                 \n",
      " dense_2 (Dense)             (None, 1)                 33        \n",
      "                                                                 \n",
      "=================================================================\n",
      "Total params: 2817 (11.00 KB)\n",
      "Trainable params: 2817 (11.00 KB)\n",
      "Non-trainable params: 0 (0.00 Byte)\n",
      "_________________________________________________________________\n",
      "None\n"
     ]
    }
   ],
   "source": [
    "\"\"\"creating and fit a dense model\"\"\"\n",
    "print(\"Building a deep learning model: FFNn\")\n",
    "model = Sequential()\n",
    "model.add(Dense(64, input_dim=seq_size, activation='relu'))\n",
    "model.add(Dense(32, activation='relu'))\n",
    "model.add(Dense(1))\n",
    "model.compile(loss='mean_squared_error', optimizer='adam', metrics = ['acc'])\n",
    "print(model.summary())"
   ]
  },
  {
   "cell_type": "code",
   "execution_count": 27,
   "metadata": {
    "colab": {
     "base_uri": "https://localhost:8080/"
    },
    "id": "LZR5v64U_gtH",
    "outputId": "92faeb09-86ea-4364-ecd3-8430bdb30272"
   },
   "outputs": [
    {
     "name": "stdout",
     "output_type": "stream",
     "text": [
      "Epoch 1/100\n",
      "3/3 - 1s - loss: 0.0589 - acc: 0.0119 - val_loss: 0.2606 - val_acc: 0.0000e+00 - 1s/epoch - 370ms/step\n",
      "Epoch 2/100\n",
      "3/3 - 0s - loss: 0.0405 - acc: 0.0119 - val_loss: 0.1812 - val_acc: 0.0000e+00 - 78ms/epoch - 26ms/step\n",
      "Epoch 3/100\n",
      "3/3 - 0s - loss: 0.0264 - acc: 0.0119 - val_loss: 0.1195 - val_acc: 0.0000e+00 - 87ms/epoch - 29ms/step\n",
      "Epoch 4/100\n",
      "3/3 - 0s - loss: 0.0165 - acc: 0.0119 - val_loss: 0.0706 - val_acc: 0.0000e+00 - 80ms/epoch - 27ms/step\n",
      "Epoch 5/100\n",
      "3/3 - 0s - loss: 0.0095 - acc: 0.0119 - val_loss: 0.0397 - val_acc: 0.0263 - 51ms/epoch - 17ms/step\n",
      "Epoch 6/100\n",
      "3/3 - 0s - loss: 0.0062 - acc: 0.0119 - val_loss: 0.0262 - val_acc: 0.0263 - 63ms/epoch - 21ms/step\n",
      "Epoch 7/100\n",
      "3/3 - 0s - loss: 0.0062 - acc: 0.0119 - val_loss: 0.0235 - val_acc: 0.0263 - 61ms/epoch - 20ms/step\n",
      "Epoch 8/100\n",
      "3/3 - 0s - loss: 0.0070 - acc: 0.0119 - val_loss: 0.0233 - val_acc: 0.0263 - 68ms/epoch - 23ms/step\n",
      "Epoch 9/100\n",
      "3/3 - 0s - loss: 0.0069 - acc: 0.0119 - val_loss: 0.0219 - val_acc: 0.0263 - 58ms/epoch - 19ms/step\n",
      "Epoch 10/100\n",
      "3/3 - 0s - loss: 0.0061 - acc: 0.0119 - val_loss: 0.0202 - val_acc: 0.0263 - 66ms/epoch - 22ms/step\n",
      "Epoch 11/100\n",
      "3/3 - 0s - loss: 0.0050 - acc: 0.0119 - val_loss: 0.0202 - val_acc: 0.0263 - 44ms/epoch - 15ms/step\n",
      "Epoch 12/100\n",
      "3/3 - 0s - loss: 0.0044 - acc: 0.0119 - val_loss: 0.0217 - val_acc: 0.0263 - 57ms/epoch - 19ms/step\n",
      "Epoch 13/100\n",
      "3/3 - 0s - loss: 0.0044 - acc: 0.0119 - val_loss: 0.0228 - val_acc: 0.0263 - 56ms/epoch - 19ms/step\n",
      "Epoch 14/100\n",
      "3/3 - 0s - loss: 0.0044 - acc: 0.0119 - val_loss: 0.0216 - val_acc: 0.0263 - 52ms/epoch - 17ms/step\n",
      "Epoch 15/100\n",
      "3/3 - 0s - loss: 0.0042 - acc: 0.0119 - val_loss: 0.0190 - val_acc: 0.0263 - 48ms/epoch - 16ms/step\n",
      "Epoch 16/100\n",
      "3/3 - 0s - loss: 0.0038 - acc: 0.0119 - val_loss: 0.0171 - val_acc: 0.0263 - 59ms/epoch - 20ms/step\n",
      "Epoch 17/100\n",
      "3/3 - 0s - loss: 0.0035 - acc: 0.0119 - val_loss: 0.0159 - val_acc: 0.0263 - 45ms/epoch - 15ms/step\n",
      "Epoch 18/100\n",
      "3/3 - 0s - loss: 0.0034 - acc: 0.0119 - val_loss: 0.0152 - val_acc: 0.0263 - 54ms/epoch - 18ms/step\n",
      "Epoch 19/100\n",
      "3/3 - 0s - loss: 0.0033 - acc: 0.0119 - val_loss: 0.0146 - val_acc: 0.0263 - 52ms/epoch - 17ms/step\n",
      "Epoch 20/100\n",
      "3/3 - 0s - loss: 0.0031 - acc: 0.0119 - val_loss: 0.0138 - val_acc: 0.0263 - 45ms/epoch - 15ms/step\n",
      "Epoch 21/100\n",
      "3/3 - 0s - loss: 0.0028 - acc: 0.0119 - val_loss: 0.0129 - val_acc: 0.0263 - 67ms/epoch - 22ms/step\n",
      "Epoch 22/100\n",
      "3/3 - 0s - loss: 0.0026 - acc: 0.0119 - val_loss: 0.0119 - val_acc: 0.0263 - 45ms/epoch - 15ms/step\n",
      "Epoch 23/100\n",
      "3/3 - 0s - loss: 0.0025 - acc: 0.0119 - val_loss: 0.0109 - val_acc: 0.0263 - 65ms/epoch - 22ms/step\n",
      "Epoch 24/100\n",
      "3/3 - 0s - loss: 0.0023 - acc: 0.0119 - val_loss: 0.0101 - val_acc: 0.0263 - 57ms/epoch - 19ms/step\n",
      "Epoch 25/100\n",
      "3/3 - 0s - loss: 0.0022 - acc: 0.0119 - val_loss: 0.0098 - val_acc: 0.0263 - 48ms/epoch - 16ms/step\n",
      "Epoch 26/100\n",
      "3/3 - 0s - loss: 0.0022 - acc: 0.0119 - val_loss: 0.0096 - val_acc: 0.0263 - 53ms/epoch - 18ms/step\n",
      "Epoch 27/100\n",
      "3/3 - 0s - loss: 0.0021 - acc: 0.0119 - val_loss: 0.0093 - val_acc: 0.0263 - 50ms/epoch - 17ms/step\n",
      "Epoch 28/100\n",
      "3/3 - 0s - loss: 0.0020 - acc: 0.0119 - val_loss: 0.0087 - val_acc: 0.0263 - 53ms/epoch - 18ms/step\n",
      "Epoch 29/100\n",
      "3/3 - 0s - loss: 0.0020 - acc: 0.0119 - val_loss: 0.0083 - val_acc: 0.0263 - 46ms/epoch - 15ms/step\n",
      "Epoch 30/100\n",
      "3/3 - 0s - loss: 0.0019 - acc: 0.0119 - val_loss: 0.0081 - val_acc: 0.0263 - 67ms/epoch - 22ms/step\n",
      "Epoch 31/100\n",
      "3/3 - 0s - loss: 0.0019 - acc: 0.0119 - val_loss: 0.0078 - val_acc: 0.0263 - 50ms/epoch - 17ms/step\n",
      "Epoch 32/100\n",
      "3/3 - 0s - loss: 0.0018 - acc: 0.0119 - val_loss: 0.0079 - val_acc: 0.0263 - 54ms/epoch - 18ms/step\n",
      "Epoch 33/100\n",
      "3/3 - 0s - loss: 0.0017 - acc: 0.0119 - val_loss: 0.0078 - val_acc: 0.0263 - 57ms/epoch - 19ms/step\n",
      "Epoch 34/100\n",
      "3/3 - 0s - loss: 0.0017 - acc: 0.0119 - val_loss: 0.0073 - val_acc: 0.0263 - 54ms/epoch - 18ms/step\n",
      "Epoch 35/100\n",
      "3/3 - 0s - loss: 0.0016 - acc: 0.0119 - val_loss: 0.0068 - val_acc: 0.0263 - 55ms/epoch - 18ms/step\n",
      "Epoch 36/100\n",
      "3/3 - 0s - loss: 0.0016 - acc: 0.0119 - val_loss: 0.0065 - val_acc: 0.0263 - 47ms/epoch - 16ms/step\n",
      "Epoch 37/100\n",
      "3/3 - 0s - loss: 0.0015 - acc: 0.0119 - val_loss: 0.0063 - val_acc: 0.0263 - 52ms/epoch - 17ms/step\n",
      "Epoch 38/100\n",
      "3/3 - 0s - loss: 0.0015 - acc: 0.0119 - val_loss: 0.0062 - val_acc: 0.0263 - 70ms/epoch - 23ms/step\n",
      "Epoch 39/100\n",
      "3/3 - 0s - loss: 0.0014 - acc: 0.0119 - val_loss: 0.0060 - val_acc: 0.0263 - 58ms/epoch - 19ms/step\n",
      "Epoch 40/100\n",
      "3/3 - 0s - loss: 0.0014 - acc: 0.0119 - val_loss: 0.0056 - val_acc: 0.0263 - 58ms/epoch - 19ms/step\n",
      "Epoch 41/100\n",
      "3/3 - 0s - loss: 0.0014 - acc: 0.0119 - val_loss: 0.0054 - val_acc: 0.0263 - 58ms/epoch - 19ms/step\n",
      "Epoch 42/100\n",
      "3/3 - 0s - loss: 0.0013 - acc: 0.0119 - val_loss: 0.0052 - val_acc: 0.0263 - 65ms/epoch - 22ms/step\n",
      "Epoch 43/100\n",
      "3/3 - 0s - loss: 0.0013 - acc: 0.0119 - val_loss: 0.0051 - val_acc: 0.0263 - 54ms/epoch - 18ms/step\n",
      "Epoch 44/100\n",
      "3/3 - 0s - loss: 0.0013 - acc: 0.0119 - val_loss: 0.0050 - val_acc: 0.0263 - 59ms/epoch - 20ms/step\n",
      "Epoch 45/100\n",
      "3/3 - 0s - loss: 0.0012 - acc: 0.0119 - val_loss: 0.0048 - val_acc: 0.0263 - 68ms/epoch - 23ms/step\n",
      "Epoch 46/100\n",
      "3/3 - 0s - loss: 0.0012 - acc: 0.0119 - val_loss: 0.0046 - val_acc: 0.0263 - 62ms/epoch - 21ms/step\n",
      "Epoch 47/100\n",
      "3/3 - 0s - loss: 0.0012 - acc: 0.0119 - val_loss: 0.0044 - val_acc: 0.0263 - 58ms/epoch - 19ms/step\n",
      "Epoch 48/100\n",
      "3/3 - 0s - loss: 0.0012 - acc: 0.0119 - val_loss: 0.0043 - val_acc: 0.0263 - 60ms/epoch - 20ms/step\n",
      "Epoch 49/100\n",
      "3/3 - 0s - loss: 0.0011 - acc: 0.0119 - val_loss: 0.0042 - val_acc: 0.0263 - 46ms/epoch - 15ms/step\n",
      "Epoch 50/100\n",
      "3/3 - 0s - loss: 0.0011 - acc: 0.0119 - val_loss: 0.0040 - val_acc: 0.0263 - 54ms/epoch - 18ms/step\n",
      "Epoch 51/100\n",
      "3/3 - 0s - loss: 0.0011 - acc: 0.0119 - val_loss: 0.0039 - val_acc: 0.0263 - 55ms/epoch - 18ms/step\n",
      "Epoch 52/100\n",
      "3/3 - 0s - loss: 0.0010 - acc: 0.0119 - val_loss: 0.0039 - val_acc: 0.0263 - 66ms/epoch - 22ms/step\n",
      "Epoch 53/100\n",
      "3/3 - 0s - loss: 0.0010 - acc: 0.0119 - val_loss: 0.0040 - val_acc: 0.0263 - 48ms/epoch - 16ms/step\n",
      "Epoch 54/100\n",
      "3/3 - 0s - loss: 0.0010 - acc: 0.0119 - val_loss: 0.0037 - val_acc: 0.0263 - 80ms/epoch - 27ms/step\n",
      "Epoch 55/100\n",
      "3/3 - 0s - loss: 0.0010 - acc: 0.0119 - val_loss: 0.0036 - val_acc: 0.0263 - 70ms/epoch - 23ms/step\n",
      "Epoch 56/100\n",
      "3/3 - 0s - loss: 9.9469e-04 - acc: 0.0119 - val_loss: 0.0035 - val_acc: 0.0263 - 60ms/epoch - 20ms/step\n",
      "Epoch 57/100\n",
      "3/3 - 0s - loss: 9.6650e-04 - acc: 0.0119 - val_loss: 0.0035 - val_acc: 0.0263 - 65ms/epoch - 22ms/step\n",
      "Epoch 58/100\n",
      "3/3 - 0s - loss: 9.6130e-04 - acc: 0.0119 - val_loss: 0.0034 - val_acc: 0.0263 - 67ms/epoch - 22ms/step\n",
      "Epoch 59/100\n",
      "3/3 - 0s - loss: 9.4010e-04 - acc: 0.0119 - val_loss: 0.0033 - val_acc: 0.0263 - 66ms/epoch - 22ms/step\n",
      "Epoch 60/100\n",
      "3/3 - 0s - loss: 9.3372e-04 - acc: 0.0119 - val_loss: 0.0032 - val_acc: 0.0263 - 60ms/epoch - 20ms/step\n",
      "Epoch 61/100\n",
      "3/3 - 0s - loss: 9.2644e-04 - acc: 0.0119 - val_loss: 0.0031 - val_acc: 0.0263 - 49ms/epoch - 16ms/step\n",
      "Epoch 62/100\n",
      "3/3 - 0s - loss: 9.1105e-04 - acc: 0.0119 - val_loss: 0.0031 - val_acc: 0.0263 - 49ms/epoch - 16ms/step\n",
      "Epoch 63/100\n",
      "3/3 - 0s - loss: 9.3150e-04 - acc: 0.0119 - val_loss: 0.0032 - val_acc: 0.0263 - 41ms/epoch - 14ms/step\n",
      "Epoch 64/100\n",
      "3/3 - 0s - loss: 8.8254e-04 - acc: 0.0119 - val_loss: 0.0030 - val_acc: 0.0263 - 47ms/epoch - 16ms/step\n",
      "Epoch 65/100\n",
      "3/3 - 0s - loss: 8.8138e-04 - acc: 0.0119 - val_loss: 0.0029 - val_acc: 0.0263 - 44ms/epoch - 15ms/step\n",
      "Epoch 66/100\n",
      "3/3 - 0s - loss: 8.6540e-04 - acc: 0.0119 - val_loss: 0.0030 - val_acc: 0.0263 - 55ms/epoch - 18ms/step\n",
      "Epoch 67/100\n",
      "3/3 - 0s - loss: 8.4846e-04 - acc: 0.0119 - val_loss: 0.0030 - val_acc: 0.0263 - 45ms/epoch - 15ms/step\n",
      "Epoch 68/100\n",
      "3/3 - 0s - loss: 8.5893e-04 - acc: 0.0119 - val_loss: 0.0029 - val_acc: 0.0263 - 69ms/epoch - 23ms/step\n",
      "Epoch 69/100\n",
      "3/3 - 0s - loss: 8.2578e-04 - acc: 0.0119 - val_loss: 0.0028 - val_acc: 0.0263 - 63ms/epoch - 21ms/step\n",
      "Epoch 70/100\n",
      "3/3 - 0s - loss: 8.3141e-04 - acc: 0.0119 - val_loss: 0.0028 - val_acc: 0.0263 - 87ms/epoch - 29ms/step\n",
      "Epoch 71/100\n",
      "3/3 - 0s - loss: 8.0565e-04 - acc: 0.0119 - val_loss: 0.0028 - val_acc: 0.0263 - 90ms/epoch - 30ms/step\n",
      "Epoch 72/100\n",
      "3/3 - 0s - loss: 8.2441e-04 - acc: 0.0119 - val_loss: 0.0028 - val_acc: 0.0263 - 89ms/epoch - 30ms/step\n",
      "Epoch 73/100\n",
      "3/3 - 0s - loss: 7.9987e-04 - acc: 0.0119 - val_loss: 0.0028 - val_acc: 0.0263 - 332ms/epoch - 111ms/step\n",
      "Epoch 74/100\n",
      "3/3 - 0s - loss: 7.8074e-04 - acc: 0.0119 - val_loss: 0.0027 - val_acc: 0.0263 - 66ms/epoch - 22ms/step\n",
      "Epoch 75/100\n",
      "3/3 - 0s - loss: 7.8449e-04 - acc: 0.0119 - val_loss: 0.0027 - val_acc: 0.0263 - 49ms/epoch - 16ms/step\n",
      "Epoch 76/100\n",
      "3/3 - 0s - loss: 7.8801e-04 - acc: 0.0119 - val_loss: 0.0027 - val_acc: 0.0263 - 67ms/epoch - 22ms/step\n",
      "Epoch 77/100\n",
      "3/3 - 0s - loss: 7.7198e-04 - acc: 0.0119 - val_loss: 0.0027 - val_acc: 0.0263 - 50ms/epoch - 17ms/step\n",
      "Epoch 78/100\n",
      "3/3 - 0s - loss: 7.4934e-04 - acc: 0.0119 - val_loss: 0.0026 - val_acc: 0.0263 - 64ms/epoch - 21ms/step\n",
      "Epoch 79/100\n",
      "3/3 - 0s - loss: 7.4802e-04 - acc: 0.0119 - val_loss: 0.0027 - val_acc: 0.0263 - 65ms/epoch - 22ms/step\n",
      "Epoch 80/100\n",
      "3/3 - 0s - loss: 7.3755e-04 - acc: 0.0119 - val_loss: 0.0027 - val_acc: 0.0263 - 55ms/epoch - 18ms/step\n",
      "Epoch 81/100\n",
      "3/3 - 0s - loss: 7.4112e-04 - acc: 0.0119 - val_loss: 0.0028 - val_acc: 0.0263 - 65ms/epoch - 22ms/step\n",
      "Epoch 82/100\n",
      "3/3 - 0s - loss: 7.2793e-04 - acc: 0.0119 - val_loss: 0.0026 - val_acc: 0.0263 - 42ms/epoch - 14ms/step\n",
      "Epoch 83/100\n",
      "3/3 - 0s - loss: 7.1247e-04 - acc: 0.0119 - val_loss: 0.0026 - val_acc: 0.0263 - 48ms/epoch - 16ms/step\n",
      "Epoch 84/100\n",
      "3/3 - 0s - loss: 7.0874e-04 - acc: 0.0119 - val_loss: 0.0026 - val_acc: 0.0263 - 43ms/epoch - 14ms/step\n",
      "Epoch 85/100\n",
      "3/3 - 0s - loss: 7.1132e-04 - acc: 0.0119 - val_loss: 0.0026 - val_acc: 0.0263 - 50ms/epoch - 17ms/step\n",
      "Epoch 86/100\n",
      "3/3 - 0s - loss: 6.8938e-04 - acc: 0.0119 - val_loss: 0.0025 - val_acc: 0.0263 - 48ms/epoch - 16ms/step\n",
      "Epoch 87/100\n",
      "3/3 - 0s - loss: 6.8568e-04 - acc: 0.0119 - val_loss: 0.0025 - val_acc: 0.0263 - 72ms/epoch - 24ms/step\n",
      "Epoch 88/100\n",
      "3/3 - 0s - loss: 6.8032e-04 - acc: 0.0119 - val_loss: 0.0025 - val_acc: 0.0263 - 72ms/epoch - 24ms/step\n",
      "Epoch 89/100\n",
      "3/3 - 0s - loss: 6.7091e-04 - acc: 0.0119 - val_loss: 0.0025 - val_acc: 0.0263 - 113ms/epoch - 38ms/step\n",
      "Epoch 90/100\n",
      "3/3 - 0s - loss: 6.6969e-04 - acc: 0.0119 - val_loss: 0.0024 - val_acc: 0.0263 - 73ms/epoch - 24ms/step\n",
      "Epoch 91/100\n",
      "3/3 - 0s - loss: 6.6282e-04 - acc: 0.0119 - val_loss: 0.0024 - val_acc: 0.0263 - 63ms/epoch - 21ms/step\n",
      "Epoch 92/100\n",
      "3/3 - 0s - loss: 6.6520e-04 - acc: 0.0119 - val_loss: 0.0024 - val_acc: 0.0263 - 69ms/epoch - 23ms/step\n",
      "Epoch 93/100\n",
      "3/3 - 0s - loss: 6.4812e-04 - acc: 0.0119 - val_loss: 0.0023 - val_acc: 0.0263 - 96ms/epoch - 32ms/step\n",
      "Epoch 94/100\n",
      "3/3 - 0s - loss: 6.4728e-04 - acc: 0.0119 - val_loss: 0.0024 - val_acc: 0.0263 - 55ms/epoch - 18ms/step\n",
      "Epoch 95/100\n",
      "3/3 - 0s - loss: 6.3411e-04 - acc: 0.0119 - val_loss: 0.0023 - val_acc: 0.0263 - 54ms/epoch - 18ms/step\n",
      "Epoch 96/100\n",
      "3/3 - 0s - loss: 6.2918e-04 - acc: 0.0119 - val_loss: 0.0023 - val_acc: 0.0263 - 66ms/epoch - 22ms/step\n",
      "Epoch 97/100\n",
      "3/3 - 0s - loss: 6.3008e-04 - acc: 0.0119 - val_loss: 0.0023 - val_acc: 0.0263 - 64ms/epoch - 21ms/step\n",
      "Epoch 98/100\n",
      "3/3 - 0s - loss: 6.2155e-04 - acc: 0.0119 - val_loss: 0.0023 - val_acc: 0.0263 - 49ms/epoch - 16ms/step\n",
      "Epoch 99/100\n",
      "3/3 - 0s - loss: 6.1653e-04 - acc: 0.0119 - val_loss: 0.0023 - val_acc: 0.0263 - 62ms/epoch - 21ms/step\n",
      "Epoch 100/100\n",
      "3/3 - 0s - loss: 6.1079e-04 - acc: 0.0119 - val_loss: 0.0023 - val_acc: 0.0263 - 47ms/epoch - 16ms/step\n"
     ]
    },
    {
     "data": {
      "text/plain": [
       "<keras.src.callbacks.History at 0x134e26310>"
      ]
     },
     "execution_count": 27,
     "metadata": {},
     "output_type": "execute_result"
    }
   ],
   "source": [
    "\"\"\"fit the model\"\"\"\n",
    "model.fit(trainX, trainY, validation_data=(testX, testY), verbose=2, epochs=100)"
   ]
  },
  {
   "cell_type": "code",
   "execution_count": 28,
   "metadata": {
    "colab": {
     "base_uri": "https://localhost:8080/"
    },
    "id": "XrkLKxq8_6wd",
    "outputId": "18b5b4ca-f0e5-41e9-9fff-57a3635089cb"
   },
   "outputs": [
    {
     "name": "stdout",
     "output_type": "stream",
     "text": [
      "3/3 [==============================] - 0s 3ms/step\n",
      "2/2 [==============================] - 0s 5ms/step\n"
     ]
    }
   ],
   "source": [
    "\"\"\"make predictions\"\"\"\n",
    "trainPredict = model.predict(trainX)\n",
    "testPredict = model.predict(testX)"
   ]
  },
  {
   "cell_type": "code",
   "execution_count": 29,
   "metadata": {
    "id": "FxaO-PnuA3BA"
   },
   "outputs": [],
   "source": [
    "\"\"\"Estimate model performance\"\"\"\n",
    "trainPredict = scaler.inverse_transform(trainPredict)\n",
    "trainY_inverse = scaler.inverse_transform([trainY])\n",
    "testPredict = scaler.inverse_transform(testPredict)\n",
    "testY_inverse = scaler.inverse_transform([testY])"
   ]
  },
  {
   "cell_type": "code",
   "execution_count": 30,
   "metadata": {
    "colab": {
     "base_uri": "https://localhost:8080/"
    },
    "id": "3x2WQm36A75g",
    "outputId": "513666d7-6848-484f-c00a-54ef3dab8417"
   },
   "outputs": [
    {
     "name": "stdout",
     "output_type": "stream",
     "text": [
      "Train Score: 12.73 RMSE\n",
      "Test Score: 24.64 RMSE\n"
     ]
    }
   ],
   "source": [
    "\"\"\"calculate root mean squared error\"\"\"\n",
    "trainScore = math.sqrt(mean_squared_error(trainY_inverse[0], trainPredict[:,0]))\n",
    "print('Train Score: %.2f RMSE' % (trainScore))\n",
    "\n",
    "testScore = math.sqrt(mean_squared_error(testY_inverse[0], testPredict[:,0]))\n",
    "print('Test Score: %.2f RMSE' % (testScore))"
   ]
  },
  {
   "cell_type": "code",
   "execution_count": 31,
   "metadata": {},
   "outputs": [],
   "source": [
    "\"\"\"shift train and test predictions to allign the plot with x axis with the original dataset\"\"\"\n",
    "trainPredictPlot = np.empty_like(dataset)\n",
    "trainPredictPlot[:, :] = np.nan\n",
    "trainPredictPlot[seq_size:len(trainPredict)+seq_size, :] = trainPredict\n",
    "\n",
    "testPredictPlot = np.empty_like(dataset)\n",
    "testPredictPlot[:, :] = np.nan\n",
    "testPredictPlot[len(trainPredict)+(seq_size*2)+1:len(dataset)-1, :] = testPredict"
   ]
  },
  {
   "cell_type": "code",
   "execution_count": 32,
   "metadata": {},
   "outputs": [],
   "source": [
    "\"\"\"combine predictions with original data\"\"\"\n",
    "dataframe[\"trainPredict\"] = trainPredictPlot\n",
    "dataframe[\"testPredict\"] = testPredictPlot"
   ]
  },
  {
   "cell_type": "code",
   "execution_count": 33,
   "metadata": {},
   "outputs": [
    {
     "data": {
      "image/png": "[encoded data removed]",
      "text/plain": [
       "<Figure size 640x480 with 1 Axes>"
      ]
     },
     "metadata": {},
     "output_type": "display_data"
    }
   ],
   "source": [
    "\"\"\"plot the original and predicted data\"\"\"\n",
    "#plt.gca().set_facecolor(\"#f5e6ff\")\n",
    "plt.plot(dataframe[\"#Passengers\"], c=\"cyan\",label=\"Original Trend\")\n",
    "plt.plot(dataframe[\"trainPredict\"], c=\"g\",label=\"Predicted Trend on Train\")\n",
    "plt.plot(dataframe[\"testPredict\"], c=\"r\",label=\"Predicted Trend on Test\")\n",
    "plt.xlabel(\"Time in Years\")\n",
    "plt.ylabel(\"Frequency\")\n",
    "plt.legend()\n",
    "plt.title(\"Original and Predicted Growth of Passengers\")\n",
    "plt.tight_layout()\n",
    "plt.savefig(\"Original and Predicted Trends.png\", dpi=300)\n",
    "plt.show()"
   ]
  },
  {
   "cell_type": "code",
   "execution_count": null,
   "metadata": {},
   "outputs": [],
   "source": []
  }
 ],
 "metadata": {
  "colab": {
   "provenance": []
  },
  "kernelspec": {
   "display_name": "Python 3 (ipykernel)",
   "language": "python",
   "name": "python3"
  },
  "language_info": {
   "codemirror_mode": {
    "name": "ipython",
    "version": 3
   },
   "file_extension": ".py",
   "mimetype": "text/x-python",
   "name": "python",
   "nbconvert_exporter": "python",
   "pygments_lexer": "ipython3",
   "version": "3.11.5"
  }
 },
 "nbformat": 4,
 "nbformat_minor": 4
}
